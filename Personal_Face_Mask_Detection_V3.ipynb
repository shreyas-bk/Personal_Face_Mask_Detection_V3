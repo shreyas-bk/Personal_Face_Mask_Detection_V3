{
  "nbformat": 4,
  "nbformat_minor": 0,
  "metadata": {
    "colab": {
      "name": "Personal_Face_Mask_Detection_V3.ipynb",
      "provenance": [],
      "collapsed_sections": []
    },
    "kernelspec": {
      "name": "python3",
      "display_name": "Python 3"
    },
    "accelerator": "GPU"
  },
  "cells": [
    {
      "cell_type": "markdown",
      "metadata": {
        "id": "9_pP-GH3-wXP",
        "colab_type": "text"
      },
      "source": [
        "**IMPORTS**"
      ]
    },
    {
      "cell_type": "code",
      "metadata": {
        "id": "RehBecmx-zJ2",
        "colab_type": "code",
        "colab": {
          "base_uri": "https://localhost:8080/",
          "height": 102
        },
        "outputId": "ac017bae-4a38-415a-b954-0d5091b210d9"
      },
      "source": [
        "!pip install -q xlrd\n",
        "!git clone https://github.com/shreyas-bk/without_mask.git"
      ],
      "execution_count": 1,
      "outputs": [
        {
          "output_type": "stream",
          "text": [
            "Cloning into 'without_mask'...\n",
            "remote: Enumerating objects: 674, done.\u001b[K\n",
            "remote: Total 674 (delta 0), reused 0 (delta 0), pack-reused 674\u001b[K\n",
            "Receiving objects: 100% (674/674), 24.23 MiB | 42.49 MiB/s, done.\n",
            "Resolving deltas: 100% (18/18), done.\n"
          ],
          "name": "stdout"
        }
      ]
    },
    {
      "cell_type": "code",
      "metadata": {
        "id": "ZVRhig81-4MM",
        "colab_type": "code",
        "colab": {}
      },
      "source": [
        "from tensorflow.keras.preprocessing.image import ImageDataGenerator\n",
        "from tensorflow.keras.applications.mobilenet_v2 import preprocess_input\n",
        "from tensorflow.keras.preprocessing.image import img_to_array\n",
        "from tensorflow.keras.preprocessing.image import load_img\n",
        "from tensorflow.keras.utils import to_categorical\n",
        "from sklearn.preprocessing import LabelBinarizer\n",
        "from sklearn.model_selection import train_test_split\n",
        "from imutils import paths\n",
        "import numpy as np\n",
        "import argparse\n",
        "import os"
      ],
      "execution_count": 2,
      "outputs": []
    },
    {
      "cell_type": "markdown",
      "metadata": {
        "id": "Pb1eU0ns-r2M",
        "colab_type": "text"
      },
      "source": [
        "**SETUP**"
      ]
    },
    {
      "cell_type": "markdown",
      "metadata": {
        "id": "aLjl7x8CAGXk",
        "colab_type": "text"
      },
      "source": [
        "*ENTER YOUR NAME*"
      ]
    },
    {
      "cell_type": "code",
      "metadata": {
        "id": "u9cIjPdj-t6D",
        "colab_type": "code",
        "colab": {}
      },
      "source": [
        "name = 'Shreyas'"
      ],
      "execution_count": 3,
      "outputs": []
    },
    {
      "cell_type": "markdown",
      "metadata": {
        "id": "zOlW4eDc_EzD",
        "colab_type": "text"
      },
      "source": [
        "*Requirement: 1 PICTURE WITH A FACEMASK AND 1 WITHOUT A FACEMASK*\n",
        "\n",
        "\n"
      ]
    },
    {
      "cell_type": "markdown",
      "metadata": {
        "id": "n7dTWyUb_tw7",
        "colab_type": "text"
      },
      "source": [
        "*Method 1 : Upload pictures from local storage.*"
      ]
    },
    {
      "cell_type": "code",
      "metadata": {
        "id": "8o8uEgKL_O72",
        "colab_type": "code",
        "colab": {
          "resources": {
            "http://localhost:8080/nbextensions/google.colab/files.js": {
              "data": "Ly8gQ29weXJpZ2h0IDIwMTcgR29vZ2xlIExMQwovLwovLyBMaWNlbnNlZCB1bmRlciB0aGUgQXBhY2hlIExpY2Vuc2UsIFZlcnNpb24gMi4wICh0aGUgIkxpY2Vuc2UiKTsKLy8geW91IG1heSBub3QgdXNlIHRoaXMgZmlsZSBleGNlcHQgaW4gY29tcGxpYW5jZSB3aXRoIHRoZSBMaWNlbnNlLgovLyBZb3UgbWF5IG9idGFpbiBhIGNvcHkgb2YgdGhlIExpY2Vuc2UgYXQKLy8KLy8gICAgICBodHRwOi8vd3d3LmFwYWNoZS5vcmcvbGljZW5zZXMvTElDRU5TRS0yLjAKLy8KLy8gVW5sZXNzIHJlcXVpcmVkIGJ5IGFwcGxpY2FibGUgbGF3IG9yIGFncmVlZCB0byBpbiB3cml0aW5nLCBzb2Z0d2FyZQovLyBkaXN0cmlidXRlZCB1bmRlciB0aGUgTGljZW5zZSBpcyBkaXN0cmlidXRlZCBvbiBhbiAiQVMgSVMiIEJBU0lTLAovLyBXSVRIT1VUIFdBUlJBTlRJRVMgT1IgQ09ORElUSU9OUyBPRiBBTlkgS0lORCwgZWl0aGVyIGV4cHJlc3Mgb3IgaW1wbGllZC4KLy8gU2VlIHRoZSBMaWNlbnNlIGZvciB0aGUgc3BlY2lmaWMgbGFuZ3VhZ2UgZ292ZXJuaW5nIHBlcm1pc3Npb25zIGFuZAovLyBsaW1pdGF0aW9ucyB1bmRlciB0aGUgTGljZW5zZS4KCi8qKgogKiBAZmlsZW92ZXJ2aWV3IEhlbHBlcnMgZm9yIGdvb2dsZS5jb2xhYiBQeXRob24gbW9kdWxlLgogKi8KKGZ1bmN0aW9uKHNjb3BlKSB7CmZ1bmN0aW9uIHNwYW4odGV4dCwgc3R5bGVBdHRyaWJ1dGVzID0ge30pIHsKICBjb25zdCBlbGVtZW50ID0gZG9jdW1lbnQuY3JlYXRlRWxlbWVudCgnc3BhbicpOwogIGVsZW1lbnQudGV4dENvbnRlbnQgPSB0ZXh0OwogIGZvciAoY29uc3Qga2V5IG9mIE9iamVjdC5rZXlzKHN0eWxlQXR0cmlidXRlcykpIHsKICAgIGVsZW1lbnQuc3R5bGVba2V5XSA9IHN0eWxlQXR0cmlidXRlc1trZXldOwogIH0KICByZXR1cm4gZWxlbWVudDsKfQoKLy8gTWF4IG51bWJlciBvZiBieXRlcyB3aGljaCB3aWxsIGJlIHVwbG9hZGVkIGF0IGEgdGltZS4KY29uc3QgTUFYX1BBWUxPQURfU0laRSA9IDEwMCAqIDEwMjQ7CgpmdW5jdGlvbiBfdXBsb2FkRmlsZXMoaW5wdXRJZCwgb3V0cHV0SWQpIHsKICBjb25zdCBzdGVwcyA9IHVwbG9hZEZpbGVzU3RlcChpbnB1dElkLCBvdXRwdXRJZCk7CiAgY29uc3Qgb3V0cHV0RWxlbWVudCA9IGRvY3VtZW50LmdldEVsZW1lbnRCeUlkKG91dHB1dElkKTsKICAvLyBDYWNoZSBzdGVwcyBvbiB0aGUgb3V0cHV0RWxlbWVudCB0byBtYWtlIGl0IGF2YWlsYWJsZSBmb3IgdGhlIG5leHQgY2FsbAogIC8vIHRvIHVwbG9hZEZpbGVzQ29udGludWUgZnJvbSBQeXRob24uCiAgb3V0cHV0RWxlbWVudC5zdGVwcyA9IHN0ZXBzOwoKICByZXR1cm4gX3VwbG9hZEZpbGVzQ29udGludWUob3V0cHV0SWQpOwp9CgovLyBUaGlzIGlzIHJvdWdobHkgYW4gYXN5bmMgZ2VuZXJhdG9yIChub3Qgc3VwcG9ydGVkIGluIHRoZSBicm93c2VyIHlldCksCi8vIHdoZXJlIHRoZXJlIGFyZSBtdWx0aXBsZSBhc3luY2hyb25vdXMgc3RlcHMgYW5kIHRoZSBQeXRob24gc2lkZSBpcyBnb2luZwovLyB0byBwb2xsIGZvciBjb21wbGV0aW9uIG9mIGVhY2ggc3RlcC4KLy8gVGhpcyB1c2VzIGEgUHJvbWlzZSB0byBibG9jayB0aGUgcHl0aG9uIHNpZGUgb24gY29tcGxldGlvbiBvZiBlYWNoIHN0ZXAsCi8vIHRoZW4gcGFzc2VzIHRoZSByZXN1bHQgb2YgdGhlIHByZXZpb3VzIHN0ZXAgYXMgdGhlIGlucHV0IHRvIHRoZSBuZXh0IHN0ZXAuCmZ1bmN0aW9uIF91cGxvYWRGaWxlc0NvbnRpbnVlKG91dHB1dElkKSB7CiAgY29uc3Qgb3V0cHV0RWxlbWVudCA9IGRvY3VtZW50LmdldEVsZW1lbnRCeUlkKG91dHB1dElkKTsKICBjb25zdCBzdGVwcyA9IG91dHB1dEVsZW1lbnQuc3RlcHM7CgogIGNvbnN0IG5leHQgPSBzdGVwcy5uZXh0KG91dHB1dEVsZW1lbnQubGFzdFByb21pc2VWYWx1ZSk7CiAgcmV0dXJuIFByb21pc2UucmVzb2x2ZShuZXh0LnZhbHVlLnByb21pc2UpLnRoZW4oKHZhbHVlKSA9PiB7CiAgICAvLyBDYWNoZSB0aGUgbGFzdCBwcm9taXNlIHZhbHVlIHRvIG1ha2UgaXQgYXZhaWxhYmxlIHRvIHRoZSBuZXh0CiAgICAvLyBzdGVwIG9mIHRoZSBnZW5lcmF0b3IuCiAgICBvdXRwdXRFbGVtZW50Lmxhc3RQcm9taXNlVmFsdWUgPSB2YWx1ZTsKICAgIHJldHVybiBuZXh0LnZhbHVlLnJlc3BvbnNlOwogIH0pOwp9CgovKioKICogR2VuZXJhdG9yIGZ1bmN0aW9uIHdoaWNoIGlzIGNhbGxlZCBiZXR3ZWVuIGVhY2ggYXN5bmMgc3RlcCBvZiB0aGUgdXBsb2FkCiAqIHByb2Nlc3MuCiAqIEBwYXJhbSB7c3RyaW5nfSBpbnB1dElkIEVsZW1lbnQgSUQgb2YgdGhlIGlucHV0IGZpbGUgcGlja2VyIGVsZW1lbnQuCiAqIEBwYXJhbSB7c3RyaW5nfSBvdXRwdXRJZCBFbGVtZW50IElEIG9mIHRoZSBvdXRwdXQgZGlzcGxheS4KICogQHJldHVybiB7IUl0ZXJhYmxlPCFPYmplY3Q+fSBJdGVyYWJsZSBvZiBuZXh0IHN0ZXBzLgogKi8KZnVuY3Rpb24qIHVwbG9hZEZpbGVzU3RlcChpbnB1dElkLCBvdXRwdXRJZCkgewogIGNvbnN0IGlucHV0RWxlbWVudCA9IGRvY3VtZW50LmdldEVsZW1lbnRCeUlkKGlucHV0SWQpOwogIGlucHV0RWxlbWVudC5kaXNhYmxlZCA9IGZhbHNlOwoKICBjb25zdCBvdXRwdXRFbGVtZW50ID0gZG9jdW1lbnQuZ2V0RWxlbWVudEJ5SWQob3V0cHV0SWQpOwogIG91dHB1dEVsZW1lbnQuaW5uZXJIVE1MID0gJyc7CgogIGNvbnN0IHBpY2tlZFByb21pc2UgPSBuZXcgUHJvbWlzZSgocmVzb2x2ZSkgPT4gewogICAgaW5wdXRFbGVtZW50LmFkZEV2ZW50TGlzdGVuZXIoJ2NoYW5nZScsIChlKSA9PiB7CiAgICAgIHJlc29sdmUoZS50YXJnZXQuZmlsZXMpOwogICAgfSk7CiAgfSk7CgogIGNvbnN0IGNhbmNlbCA9IGRvY3VtZW50LmNyZWF0ZUVsZW1lbnQoJ2J1dHRvbicpOwogIGlucHV0RWxlbWVudC5wYXJlbnRFbGVtZW50LmFwcGVuZENoaWxkKGNhbmNlbCk7CiAgY2FuY2VsLnRleHRDb250ZW50ID0gJ0NhbmNlbCB1cGxvYWQnOwogIGNvbnN0IGNhbmNlbFByb21pc2UgPSBuZXcgUHJvbWlzZSgocmVzb2x2ZSkgPT4gewogICAgY2FuY2VsLm9uY2xpY2sgPSAoKSA9PiB7CiAgICAgIHJlc29sdmUobnVsbCk7CiAgICB9OwogIH0pOwoKICAvLyBXYWl0IGZvciB0aGUgdXNlciB0byBwaWNrIHRoZSBmaWxlcy4KICBjb25zdCBmaWxlcyA9IHlpZWxkIHsKICAgIHByb21pc2U6IFByb21pc2UucmFjZShbcGlja2VkUHJvbWlzZSwgY2FuY2VsUHJvbWlzZV0pLAogICAgcmVzcG9uc2U6IHsKICAgICAgYWN0aW9uOiAnc3RhcnRpbmcnLAogICAgfQogIH07CgogIGNhbmNlbC5yZW1vdmUoKTsKCiAgLy8gRGlzYWJsZSB0aGUgaW5wdXQgZWxlbWVudCBzaW5jZSBmdXJ0aGVyIHBpY2tzIGFyZSBub3QgYWxsb3dlZC4KICBpbnB1dEVsZW1lbnQuZGlzYWJsZWQgPSB0cnVlOwoKICBpZiAoIWZpbGVzKSB7CiAgICByZXR1cm4gewogICAgICByZXNwb25zZTogewogICAgICAgIGFjdGlvbjogJ2NvbXBsZXRlJywKICAgICAgfQogICAgfTsKICB9CgogIGZvciAoY29uc3QgZmlsZSBvZiBmaWxlcykgewogICAgY29uc3QgbGkgPSBkb2N1bWVudC5jcmVhdGVFbGVtZW50KCdsaScpOwogICAgbGkuYXBwZW5kKHNwYW4oZmlsZS5uYW1lLCB7Zm9udFdlaWdodDogJ2JvbGQnfSkpOwogICAgbGkuYXBwZW5kKHNwYW4oCiAgICAgICAgYCgke2ZpbGUudHlwZSB8fCAnbi9hJ30pIC0gJHtmaWxlLnNpemV9IGJ5dGVzLCBgICsKICAgICAgICBgbGFzdCBtb2RpZmllZDogJHsKICAgICAgICAgICAgZmlsZS5sYXN0TW9kaWZpZWREYXRlID8gZmlsZS5sYXN0TW9kaWZpZWREYXRlLnRvTG9jYWxlRGF0ZVN0cmluZygpIDoKICAgICAgICAgICAgICAgICAgICAgICAgICAgICAgICAgICAgJ24vYSd9IC0gYCkpOwogICAgY29uc3QgcGVyY2VudCA9IHNwYW4oJzAlIGRvbmUnKTsKICAgIGxpLmFwcGVuZENoaWxkKHBlcmNlbnQpOwoKICAgIG91dHB1dEVsZW1lbnQuYXBwZW5kQ2hpbGQobGkpOwoKICAgIGNvbnN0IGZpbGVEYXRhUHJvbWlzZSA9IG5ldyBQcm9taXNlKChyZXNvbHZlKSA9PiB7CiAgICAgIGNvbnN0IHJlYWRlciA9IG5ldyBGaWxlUmVhZGVyKCk7CiAgICAgIHJlYWRlci5vbmxvYWQgPSAoZSkgPT4gewogICAgICAgIHJlc29sdmUoZS50YXJnZXQucmVzdWx0KTsKICAgICAgfTsKICAgICAgcmVhZGVyLnJlYWRBc0FycmF5QnVmZmVyKGZpbGUpOwogICAgfSk7CiAgICAvLyBXYWl0IGZvciB0aGUgZGF0YSB0byBiZSByZWFkeS4KICAgIGxldCBmaWxlRGF0YSA9IHlpZWxkIHsKICAgICAgcHJvbWlzZTogZmlsZURhdGFQcm9taXNlLAogICAgICByZXNwb25zZTogewogICAgICAgIGFjdGlvbjogJ2NvbnRpbnVlJywKICAgICAgfQogICAgfTsKCiAgICAvLyBVc2UgYSBjaHVua2VkIHNlbmRpbmcgdG8gYXZvaWQgbWVzc2FnZSBzaXplIGxpbWl0cy4gU2VlIGIvNjIxMTU2NjAuCiAgICBsZXQgcG9zaXRpb24gPSAwOwogICAgd2hpbGUgKHBvc2l0aW9uIDwgZmlsZURhdGEuYnl0ZUxlbmd0aCkgewogICAgICBjb25zdCBsZW5ndGggPSBNYXRoLm1pbihmaWxlRGF0YS5ieXRlTGVuZ3RoIC0gcG9zaXRpb24sIE1BWF9QQVlMT0FEX1NJWkUpOwogICAgICBjb25zdCBjaHVuayA9IG5ldyBVaW50OEFycmF5KGZpbGVEYXRhLCBwb3NpdGlvbiwgbGVuZ3RoKTsKICAgICAgcG9zaXRpb24gKz0gbGVuZ3RoOwoKICAgICAgY29uc3QgYmFzZTY0ID0gYnRvYShTdHJpbmcuZnJvbUNoYXJDb2RlLmFwcGx5KG51bGwsIGNodW5rKSk7CiAgICAgIHlpZWxkIHsKICAgICAgICByZXNwb25zZTogewogICAgICAgICAgYWN0aW9uOiAnYXBwZW5kJywKICAgICAgICAgIGZpbGU6IGZpbGUubmFtZSwKICAgICAgICAgIGRhdGE6IGJhc2U2NCwKICAgICAgICB9LAogICAgICB9OwogICAgICBwZXJjZW50LnRleHRDb250ZW50ID0KICAgICAgICAgIGAke01hdGgucm91bmQoKHBvc2l0aW9uIC8gZmlsZURhdGEuYnl0ZUxlbmd0aCkgKiAxMDApfSUgZG9uZWA7CiAgICB9CiAgfQoKICAvLyBBbGwgZG9uZS4KICB5aWVsZCB7CiAgICByZXNwb25zZTogewogICAgICBhY3Rpb246ICdjb21wbGV0ZScsCiAgICB9CiAgfTsKfQoKc2NvcGUuZ29vZ2xlID0gc2NvcGUuZ29vZ2xlIHx8IHt9OwpzY29wZS5nb29nbGUuY29sYWIgPSBzY29wZS5nb29nbGUuY29sYWIgfHwge307CnNjb3BlLmdvb2dsZS5jb2xhYi5fZmlsZXMgPSB7CiAgX3VwbG9hZEZpbGVzLAogIF91cGxvYWRGaWxlc0NvbnRpbnVlLAp9Owp9KShzZWxmKTsK",
              "ok": true,
              "headers": [
                [
                  "content-type",
                  "application/javascript"
                ]
              ],
              "status": 200,
              "status_text": ""
            }
          },
          "base_uri": "https://localhost:8080/",
          "height": 106
        },
        "outputId": "3ae0ae38-4bf8-4d69-ed54-488a21594aac"
      },
      "source": [
        "from google.colab import files\n",
        "uploaded = files.upload()"
      ],
      "execution_count": 4,
      "outputs": [
        {
          "output_type": "display_data",
          "data": {
            "text/html": [
              "\n",
              "     <input type=\"file\" id=\"files-f49dc349-7326-48b5-a365-7d343c9c04b2\" name=\"files[]\" multiple disabled\n",
              "        style=\"border:none\" />\n",
              "     <output id=\"result-f49dc349-7326-48b5-a365-7d343c9c04b2\">\n",
              "      Upload widget is only available when the cell has been executed in the\n",
              "      current browser session. Please rerun this cell to enable.\n",
              "      </output>\n",
              "      <script src=\"/nbextensions/google.colab/files.js\"></script> "
            ],
            "text/plain": [
              "<IPython.core.display.HTML object>"
            ]
          },
          "metadata": {
            "tags": []
          }
        },
        {
          "output_type": "stream",
          "text": [
            "Saving Shreyas_without_mask (1).jpg to Shreyas_without_mask (1).jpg\n",
            "Saving Shreyas_with_mask (1).jpg to Shreyas_with_mask (1).jpg\n"
          ],
          "name": "stdout"
        }
      ]
    },
    {
      "cell_type": "markdown",
      "metadata": {
        "id": "6RT6H589_3n0",
        "colab_type": "text"
      },
      "source": [
        "*Method 2: Take pictures by running the next 2 cells*"
      ]
    },
    {
      "cell_type": "markdown",
      "metadata": {
        "id": "reNAw-MW_-FP",
        "colab_type": "text"
      },
      "source": [
        "*WITHOUT MASK*"
      ]
    },
    {
      "cell_type": "code",
      "metadata": {
        "id": "jVHc_N6l-iIO",
        "colab_type": "code",
        "colab": {
          "base_uri": "https://localhost:8080/",
          "height": 514
        },
        "outputId": "bfdd4fee-9d48-4315-d291-305ff8e81fc2"
      },
      "source": [
        "#WITHOUT MASK\n",
        "from IPython.display import display, Javascript\n",
        "from google.colab.output import eval_js\n",
        "from base64 import b64decode\n",
        "\n",
        "def take_photo(filename=name+'_without_mask.jpg', quality=0.8):\n",
        "  js = Javascript('''\n",
        "    async function takePhoto(quality) {\n",
        "      const div = document.createElement('div');\n",
        "      const capture = document.createElement('button');\n",
        "      capture.textContent = 'Take picture without mask';\n",
        "      div.appendChild(capture);\n",
        "\n",
        "      const video = document.createElement('video');\n",
        "      video.style.display = 'block';\n",
        "      const stream = await navigator.mediaDevices.getUserMedia({video: true});\n",
        "\n",
        "      document.body.appendChild(div);\n",
        "      div.appendChild(video);\n",
        "      video.srcObject = stream;\n",
        "      await video.play();\n",
        "\n",
        "      // Resize the output to fit the video element.\n",
        "      google.colab.output.setIframeHeight(document.documentElement.scrollHeight, true);\n",
        "\n",
        "      // Wait for Capture to be clicked.\n",
        "      await new Promise((resolve) => capture.onclick = resolve);\n",
        "\n",
        "      const canvas = document.createElement('canvas');\n",
        "      canvas.width = video.videoWidth;\n",
        "      canvas.height = video.videoHeight;\n",
        "      canvas.getContext('2d').drawImage(video, 0, 0);\n",
        "      stream.getVideoTracks()[0].stop();\n",
        "      div.remove();\n",
        "      return canvas.toDataURL('image/jpeg', quality);\n",
        "    }\n",
        "    ''')\n",
        "  display(js)\n",
        "  data = eval_js('takePhoto({})'.format(quality))\n",
        "  binary = b64decode(data.split(',')[1])\n",
        "  with open(filename, 'wb') as f:\n",
        "    f.write(binary)\n",
        "  return filename\n",
        "from IPython.display import Image\n",
        "try:\n",
        "  filename = take_photo()\n",
        "  print('Saved to {}'.format(filename))\n",
        "  \n",
        "  # Show the image which was just taken.\n",
        "  display(Image(filename))\n",
        "except Exception as err:\n",
        "  # Errors will be thrown if the user does not have a webcam or if they do not\n",
        "  # grant the page permission to access it.\n",
        "  print(str(err))"
      ],
      "execution_count": null,
      "outputs": [
        {
          "output_type": "display_data",
          "data": {
            "application/javascript": [
              "\n",
              "    async function takePhoto(quality) {\n",
              "      const div = document.createElement('div');\n",
              "      const capture = document.createElement('button');\n",
              "      capture.textContent = 'Take picture without mask';\n",
              "      div.appendChild(capture);\n",
              "\n",
              "      const video = document.createElement('video');\n",
              "      video.style.display = 'block';\n",
              "      const stream = await navigator.mediaDevices.getUserMedia({video: true});\n",
              "\n",
              "      document.body.appendChild(div);\n",
              "      div.appendChild(video);\n",
              "      video.srcObject = stream;\n",
              "      await video.play();\n",
              "\n",
              "      // Resize the output to fit the video element.\n",
              "      google.colab.output.setIframeHeight(document.documentElement.scrollHeight, true);\n",
              "\n",
              "      // Wait for Capture to be clicked.\n",
              "      await new Promise((resolve) => capture.onclick = resolve);\n",
              "\n",
              "      const canvas = document.createElement('canvas');\n",
              "      canvas.width = video.videoWidth;\n",
              "      canvas.height = video.videoHeight;\n",
              "      canvas.getContext('2d').drawImage(video, 0, 0);\n",
              "      stream.getVideoTracks()[0].stop();\n",
              "      div.remove();\n",
              "      return canvas.toDataURL('image/jpeg', quality);\n",
              "    }\n",
              "    "
            ],
            "text/plain": [
              "<IPython.core.display.Javascript object>"
            ]
          },
          "metadata": {
            "tags": []
          }
        },
        {
          "output_type": "stream",
          "text": [
            "Saved to Shreyas_without_mask.jpg\n"
          ],
          "name": "stdout"
        },
        {
          "output_type": "display_data",
          "data": {
            "image/jpeg": "[encoded data removed]",
            "text/plain": [
              "<IPython.core.display.Image object>"
            ]
          },
          "metadata": {
            "tags": []
          }
        }
      ]
    },
    {
      "cell_type": "markdown",
      "metadata": {
        "id": "6dOANmeCACNQ",
        "colab_type": "text"
      },
      "source": [
        "*WITH MASK*"
      ]
    },
    {
      "cell_type": "code",
      "metadata": {
        "id": "AAPARIwvAEZv",
        "colab_type": "code",
        "colab": {
          "base_uri": "https://localhost:8080/",
          "height": 514
        },
        "outputId": "0aefc3a6-d52c-44c4-f9c3-d7b37ddcd454"
      },
      "source": [
        "#WITH MASK\n",
        "from IPython.display import display, Javascript\n",
        "from google.colab.output import eval_js\n",
        "from base64 import b64decode\n",
        "\n",
        "def take_photo(filename=name+'_with_mask.jpg', quality=0.8):\n",
        "  js = Javascript('''\n",
        "    async function takePhoto(quality) {\n",
        "      const div = document.createElement('div');\n",
        "      const capture = document.createElement('button');\n",
        "      capture.textContent = 'Take picture with mask';\n",
        "      div.appendChild(capture);\n",
        "\n",
        "      const video = document.createElement('video');\n",
        "      video.style.display = 'block';\n",
        "      const stream = await navigator.mediaDevices.getUserMedia({video: true});\n",
        "\n",
        "      document.body.appendChild(div);\n",
        "      div.appendChild(video);\n",
        "      video.srcObject = stream;\n",
        "      await video.play();\n",
        "\n",
        "      // Resize the output to fit the video element.\n",
        "      google.colab.output.setIframeHeight(document.documentElement.scrollHeight, true);\n",
        "\n",
        "      // Wait for Capture to be clicked.\n",
        "      await new Promise((resolve) => capture.onclick = resolve);\n",
        "\n",
        "      const canvas = document.createElement('canvas');\n",
        "      canvas.width = video.videoWidth;\n",
        "      canvas.height = video.videoHeight;\n",
        "      canvas.getContext('2d').drawImage(video, 0, 0);\n",
        "      stream.getVideoTracks()[0].stop();\n",
        "      div.remove();\n",
        "      return canvas.toDataURL('image/jpeg', quality);\n",
        "    }\n",
        "    ''')\n",
        "  display(js)\n",
        "  data = eval_js('takePhoto({})'.format(quality))\n",
        "  binary = b64decode(data.split(',')[1])\n",
        "  with open(filename, 'wb') as f:\n",
        "    f.write(binary)\n",
        "  return filename\n",
        "from IPython.display import Image\n",
        "try:\n",
        "  filename = take_photo()\n",
        "  print('Saved to {}'.format(filename))\n",
        "  \n",
        "  # Show the image which was just taken.\n",
        "  display(Image(filename))\n",
        "except Exception as err:\n",
        "  # Errors will be thrown if the user does not have a webcam or if they do not\n",
        "  # grant the page permission to access it.\n",
        "  print(str(err))"
      ],
      "execution_count": null,
      "outputs": [
        {
          "output_type": "display_data",
          "data": {
            "application/javascript": [
              "\n",
              "    async function takePhoto(quality) {\n",
              "      const div = document.createElement('div');\n",
              "      const capture = document.createElement('button');\n",
              "      capture.textContent = 'Take picture with mask';\n",
              "      div.appendChild(capture);\n",
              "\n",
              "      const video = document.createElement('video');\n",
              "      video.style.display = 'block';\n",
              "      const stream = await navigator.mediaDevices.getUserMedia({video: true});\n",
              "\n",
              "      document.body.appendChild(div);\n",
              "      div.appendChild(video);\n",
              "      video.srcObject = stream;\n",
              "      await video.play();\n",
              "\n",
              "      // Resize the output to fit the video element.\n",
              "      google.colab.output.setIframeHeight(document.documentElement.scrollHeight, true);\n",
              "\n",
              "      // Wait for Capture to be clicked.\n",
              "      await new Promise((resolve) => capture.onclick = resolve);\n",
              "\n",
              "      const canvas = document.createElement('canvas');\n",
              "      canvas.width = video.videoWidth;\n",
              "      canvas.height = video.videoHeight;\n",
              "      canvas.getContext('2d').drawImage(video, 0, 0);\n",
              "      stream.getVideoTracks()[0].stop();\n",
              "      div.remove();\n",
              "      return canvas.toDataURL('image/jpeg', quality);\n",
              "    }\n",
              "    "
            ],
            "text/plain": [
              "<IPython.core.display.Javascript object>"
            ]
          },
          "metadata": {
            "tags": []
          }
        },
        {
          "output_type": "stream",
          "text": [
            "Saved to Shreyas_with_mask.jpg\n"
          ],
          "name": "stdout"
        },
        {
          "output_type": "display_data",
          "data": {
            "image/jpeg": "[encoded data removed]",
            "text/plain": [
              "<IPython.core.display.Image object>"
            ]
          },
          "metadata": {
            "tags": []
          }
        }
      ]
    },
    {
      "cell_type": "markdown",
      "metadata": {
        "id": "mzZZfewVAOwh",
        "colab_type": "text"
      },
      "source": [
        "**MASK DETECTION**"
      ]
    },
    {
      "cell_type": "markdown",
      "metadata": {
        "id": "UegJ-9EIAUoG",
        "colab_type": "text"
      },
      "source": [
        "*Load data*"
      ]
    },
    {
      "cell_type": "code",
      "metadata": {
        "id": "vHa6Fw2gAUHN",
        "colab_type": "code",
        "colab": {
          "base_uri": "https://localhost:8080/",
          "height": 34
        },
        "outputId": "db8df6ec-55cb-407f-a32a-0bff3b52e78b"
      },
      "source": [
        "data = []\n",
        "labels = []\n",
        "count = 0\n",
        "for imagePath in list(paths.list_images('/content/')):\n",
        "  count+=1\n",
        "  label = imagePath.split(os.path.sep)[-2]\n",
        "  image = load_img(imagePath, target_size=(224, 224))\n",
        "  image = img_to_array(image)\n",
        "  image = preprocess_input(image)\n",
        "  if imagePath=='/content/'+name+'_without_mask.jpg':\n",
        "    datagen = ImageDataGenerator(zoom_range=0.2,height_shift_range=40)\n",
        "    i=0\n",
        "    lis = []\n",
        "    img = load_img(imagePath, target_size=(224, 224))\n",
        "    x = img_to_array(img)\n",
        "    x = x.reshape((1,) + x.shape)\n",
        "    for batch in datagen.flow(x, batch_size=1):\n",
        "      image = img_to_array(batch[0])\n",
        "      image = preprocess_input(image)\n",
        "      count+=1\n",
        "      label = 'without-mask'\n",
        "      data.append(image)\n",
        "      labels.append(label)\n",
        "      i += 1\n",
        "      if i >= 100:\n",
        "        break\n",
        "    #for i in range(0,100):\n",
        "      #count+=1\n",
        "      #label = 'without-mask'\n",
        "      #data.append(image)\n",
        "      #labels.append(label)\n",
        "  if imagePath=='/content/'+name+'_with_mask.jpg':\n",
        "    datagen = ImageDataGenerator(zoom_range=0.4,height_shift_range=40,brightness_range=[0.5,1.5])\n",
        "    i=0\n",
        "    lis = []\n",
        "    img = load_img(imagePath, target_size=(224, 224))\n",
        "    x = img_to_array(img)\n",
        "    x = x.reshape((1,) + x.shape)\n",
        "    for batch in datagen.flow(x, batch_size=1):\n",
        "      image = img_to_array(batch[0])\n",
        "      image = preprocess_input(image)\n",
        "      count+=1\n",
        "      label = 'with-mask'\n",
        "      data.append(image)\n",
        "      labels.append(label)\n",
        "      i += 1\n",
        "      if i >= 500:\n",
        "        break\n",
        "    #for i in range(0,100):\n",
        "      #count+=1\n",
        "      #label = 'with-mask'\n",
        "      #data.append(image)\n",
        "      #labels.append(label)\n",
        "  else:\n",
        "    data.append(image)\n",
        "    labels.append(label)\n",
        "data = np.array(data, dtype=\"float32\")\n",
        "labels = np.array(labels)\n",
        "lb = LabelBinarizer()\n",
        "labels = lb.fit_transform(labels)\n",
        "labels = to_categorical(labels)\n",
        "print('Loading complete for ',count,' images')"
      ],
      "execution_count": 5,
      "outputs": [
        {
          "output_type": "stream",
          "text": [
            "Loading complete for  1288  images\n"
          ],
          "name": "stdout"
        }
      ]
    },
    {
      "cell_type": "markdown",
      "metadata": {
        "id": "4hiyjQULAZjA",
        "colab_type": "text"
      },
      "source": [
        "*Train model*"
      ]
    },
    {
      "cell_type": "code",
      "metadata": {
        "id": "Vl8yp8g4AZJ4",
        "colab_type": "code",
        "colab": {
          "base_uri": "https://localhost:8080/",
          "height": 207
        },
        "outputId": "948bb68f-f8de-4c55-d457-b0b0c8b2482b"
      },
      "source": [
        "aug = ImageDataGenerator(\n",
        "        rotation_range=40,\n",
        "        width_shift_range=0.2,\n",
        "        height_shift_range=0.2,\n",
        "        shear_range=0.2,\n",
        "        zoom_range=0.2,\n",
        "        horizontal_flip=True,\n",
        "        fill_mode='nearest')\n",
        "(trainX, testX, trainY, testY) = train_test_split(data, labels,\n",
        "\ttest_size=0.20, stratify=labels, random_state=42)\n",
        "import tensorflow as tf\n",
        "model = tf.keras.models.Sequential([\n",
        "    tf.keras.layers.Conv2D(16, (3,3), activation='relu', input_shape=(224, 224, 3)),\n",
        "    tf.keras.layers.MaxPooling2D(2, 2),\n",
        "    # The second convolution\n",
        "    tf.keras.layers.Conv2D(32, (3,3), activation='relu'),\n",
        "    tf.keras.layers.MaxPooling2D(2,2),\n",
        "    # The third convolution\n",
        "    tf.keras.layers.Conv2D(64, (3,3), activation='relu'),\n",
        "    tf.keras.layers.MaxPooling2D(2,2),\n",
        "    # The fourth convolution\n",
        "    tf.keras.layers.Conv2D(64, (3,3), activation='relu'),\n",
        "    tf.keras.layers.MaxPooling2D(2,2),\n",
        "    # The fifth convolution\n",
        "    tf.keras.layers.Conv2D(64, (3,3), activation='relu'),\n",
        "    tf.keras.layers.MaxPooling2D(2,2),\n",
        "    # Flatten the results to feed into a DNN\n",
        "    tf.keras.layers.Flatten(),\n",
        "    # 512 neuron hidden layer\n",
        "    tf.keras.layers.Dense(512, activation='relu'),\n",
        "    # Only 1 output neuron. It will contain a value from 0-1 where 0 for 1 class ('horses') and 1 for the other ('humans')\n",
        "    tf.keras.layers.Dense(2, activation='softmax')\n",
        "])\n",
        "from tensorflow.keras.optimizers import RMSprop\n",
        "\n",
        "model.compile(loss='binary_crossentropy',\n",
        "              optimizer=RMSprop(lr=0.001),\n",
        "              metrics=['accuracy'])\n",
        "class myCallback(tf.keras.callbacks.Callback):\n",
        "  def on_epoch_end(self, epoch, logs={}):\n",
        "    if(logs.get('loss')>1):\n",
        "      print('\\nLoss too high, try rerunning cell')\n",
        "      self.model.stop_training = True\n",
        "    if(logs.get('accuracy')>0.95 and logs.get('val_accuracy')>0.95):\n",
        "      print(\"\\nStopping training with accuracy of >95%\")\n",
        "      self.model.stop_training = True\n",
        "BS = 32\n",
        "EPOCHS = 10\n",
        "callback = myCallback()\n",
        "H = model.fit(\n",
        "\taug.flow(trainX, trainY, batch_size=BS),\n",
        "\tsteps_per_epoch=len(trainX) // BS,\n",
        "\tvalidation_data=(testX, testY),\n",
        "\tvalidation_steps=len(testX) // BS,\n",
        "\tepochs=EPOCHS,\n",
        "  callbacks = [callback])\n",
        "tf.keras.backend.clear_session()"
      ],
      "execution_count": 22,
      "outputs": [
        {
          "output_type": "stream",
          "text": [
            "Epoch 1/10\n",
            "32/32 [==============================] - 10s 326ms/step - loss: 0.4515 - accuracy: 0.7723 - val_loss: 0.0760 - val_accuracy: 0.9806\n",
            "Epoch 2/10\n",
            "32/32 [==============================] - 10s 322ms/step - loss: 0.2295 - accuracy: 0.9188 - val_loss: 0.3657 - val_accuracy: 0.8488\n",
            "Epoch 3/10\n",
            "32/32 [==============================] - 10s 320ms/step - loss: 0.1525 - accuracy: 0.9478 - val_loss: 0.0809 - val_accuracy: 0.9884\n",
            "Epoch 4/10\n",
            "32/32 [==============================] - ETA: 0s - loss: 0.1507 - accuracy: 0.9549\n",
            "Stopping training with accuracy of >95%\n",
            "32/32 [==============================] - 10s 328ms/step - loss: 0.1507 - accuracy: 0.9549 - val_loss: 0.0430 - val_accuracy: 0.9922\n"
          ],
          "name": "stdout"
        }
      ]
    },
    {
      "cell_type": "markdown",
      "metadata": {
        "id": "tg5H44BNAhBf",
        "colab_type": "text"
      },
      "source": [
        "**PERSONAL DETECTION**"
      ]
    },
    {
      "cell_type": "markdown",
      "metadata": {
        "id": "4xjVI8K_Akeu",
        "colab_type": "text"
      },
      "source": [
        "*Load data*"
      ]
    },
    {
      "cell_type": "code",
      "metadata": {
        "id": "QEwwAX-sApnG",
        "colab_type": "code",
        "colab": {
          "base_uri": "https://localhost:8080/",
          "height": 34
        },
        "outputId": "4784f9f8-6cf0-4b2b-bdbe-9d4c6ecc110a"
      },
      "source": [
        "person_data = []\n",
        "person_labels = []\n",
        "count = 0\n",
        "for imagePath in list(paths.list_images('/content/')):\n",
        "  count+=1\n",
        "  label = 'not-self'\n",
        "  image = load_img(imagePath, target_size=(224, 224))\n",
        "  image = img_to_array(image)\n",
        "  image = preprocess_input(image)\n",
        "  if imagePath=='/content/'+name+'_without_mask.jpg':\n",
        "    a='''datagen = ImageDataGenerator(zoom_range=0.2,height_shift_range=40,brightness_range=[0.5,1.5])\n",
        "    i=0\n",
        "    lis = []\n",
        "    img = load_img(imagePath, target_size=(224, 224))\n",
        "    x = img_to_array(img)\n",
        "    x = x.reshape((1,) + x.shape)\n",
        "    for batch in datagen.flow(x, batch_size=1):\n",
        "      image = img_to_array(batch[0])\n",
        "      image = preprocess_input(image)\n",
        "      count+=1\n",
        "      label = 'self'\n",
        "      person_data.append(image)\n",
        "      person_labels.append(label)\n",
        "      i += 1\n",
        "      if i >= 200:\n",
        "        break'''\n",
        "    for i in range(0,300):\n",
        "      count+=1\n",
        "      label = 'self'\n",
        "      person_data.append(image)\n",
        "      person_labels.append(label)\n",
        "  if imagePath=='/content/'+name+'_with_mask.jpg':\n",
        "    a='''datagen = ImageDataGenerator(zoom_range=0.4,height_shift_range=40,brightness_range=[0.5,1.5])\n",
        "    i=0\n",
        "    lis = []\n",
        "    img = load_img(imagePath, target_size=(224, 224))\n",
        "    x = img_to_array(img)\n",
        "    x = x.reshape((1,) + x.shape)\n",
        "    for batch in datagen.flow(x, batch_size=1):\n",
        "      image = img_to_array(batch[0])\n",
        "      image = preprocess_input(image)\n",
        "      count+=1\n",
        "      label = 'self'\n",
        "      person_data.append(image)\n",
        "      person_labels.append(label)\n",
        "      i += 1\n",
        "      if i >= 200:\n",
        "        break'''\n",
        "    for i in range(0,300):\n",
        "      count+=1\n",
        "      label = 'self'\n",
        "      person_data.append(image)\n",
        "      person_labels.append(label)\n",
        "  else:\n",
        "    person_data.append(image)\n",
        "    person_labels.append(label)\n",
        "person_data = np.array(person_data, dtype=\"float32\")\n",
        "person_labels = np.array(person_labels)\n",
        "lb = LabelBinarizer()\n",
        "person_labels = lb.fit_transform(person_labels)\n",
        "person_labels = to_categorical(person_labels)\n",
        "print('Loading complete for ',count,' images')"
      ],
      "execution_count": 7,
      "outputs": [
        {
          "output_type": "stream",
          "text": [
            "Loading complete for  1288  images\n"
          ],
          "name": "stdout"
        }
      ]
    },
    {
      "cell_type": "markdown",
      "metadata": {
        "id": "QjVb5XQCArWJ",
        "colab_type": "text"
      },
      "source": [
        "*Train model*"
      ]
    },
    {
      "cell_type": "code",
      "metadata": {
        "id": "l3D0zmlAAs6e",
        "colab_type": "code",
        "colab": {
          "base_uri": "https://localhost:8080/",
          "height": 153
        },
        "outputId": "5c389ad6-06d5-4e2b-e845-81753cdb85be"
      },
      "source": [
        "#person_model\n",
        "aug = ImageDataGenerator(\n",
        "        width_shift_range=0.1,\n",
        "        height_shift_range=0.1,\n",
        "        shear_range=0.2,\n",
        "        zoom_range=0.5,\n",
        "        horizontal_flip=True,\n",
        "        fill_mode='nearest')\n",
        "(trainX, testX, trainY, testY) = train_test_split(person_data, person_labels,\n",
        "\ttest_size=0.20, stratify=person_labels, random_state=42)\n",
        "import tensorflow as tf\n",
        "person_model = tf.keras.models.Sequential([\n",
        "    tf.keras.layers.Conv2D(16, (3,3), activation='relu', input_shape=(224, 224, 3)),\n",
        "    tf.keras.layers.MaxPooling2D(2, 2),\n",
        "    # The second convolution\n",
        "    tf.keras.layers.Conv2D(32, (3,3), activation='relu'),\n",
        "    tf.keras.layers.MaxPooling2D(2,2),\n",
        "    # The third convolution\n",
        "    tf.keras.layers.Conv2D(64, (3,3), activation='relu'),\n",
        "    tf.keras.layers.MaxPooling2D(2,2),\n",
        "    # The fourth convolution\n",
        "    tf.keras.layers.Conv2D(64, (3,3), activation='relu'),\n",
        "    tf.keras.layers.MaxPooling2D(2,2),\n",
        "    # The fifth convolution\n",
        "    #tf.keras.layers.Conv2D(64, (3,3), activation='relu'),\n",
        "    #tf.keras.layers.MaxPooling2D(2,2),\n",
        "    #tf.keras.layers.Conv2D(64, (3,3), activation='relu'),\n",
        "    #tf.keras.layers.MaxPooling2D(2,2),\n",
        "    # Flatten the results to feed into a DNN\n",
        "    tf.keras.layers.Flatten(),\n",
        "    # 512 neuron hidden layer\n",
        "    tf.keras.layers.Dense(512, activation='relu'),\n",
        "    # Only 1 output neuron. It will contain a value from 0-1 where 0 for 1 class ('horses') and 1 for the other ('humans')\n",
        "    tf.keras.layers.Dense(2, activation='softmax')\n",
        "])\n",
        "from tensorflow.keras.optimizers import RMSprop\n",
        "\n",
        "person_model.compile(loss='binary_crossentropy',\n",
        "              optimizer=RMSprop(lr=0.001),\n",
        "              metrics=['accuracy'])\n",
        "class myCallback(tf.keras.callbacks.Callback):\n",
        "  def on_epoch_end(self, epoch, logs={}):\n",
        "    if(logs.get('loss')>1):\n",
        "      print('\\nLoss too high, try rerunning cell')\n",
        "      self.model.stop_training = True\n",
        "    if(logs.get('accuracy')>0.97 and logs.get('val_accuracy')>0.97):\n",
        "      print(\"\\nStopping training with accuracy of >97%\")\n",
        "      self.model.stop_training = True\n",
        "BS = 32\n",
        "EPOCHS = 10\n",
        "callback = myCallback()\n",
        "H = person_model.fit(\n",
        "\taug.flow(trainX, trainY, batch_size=BS),\n",
        "\tsteps_per_epoch=len(trainX) // BS,\n",
        "\tvalidation_data=(testX, testY),\n",
        "\tvalidation_steps=len(testX) // BS,\n",
        "\tepochs=EPOCHS,\n",
        "  callbacks = [callback])\n",
        "tf.keras.backend.clear_session()"
      ],
      "execution_count": 13,
      "outputs": [
        {
          "output_type": "stream",
          "text": [
            "Epoch 1/10\n",
            "32/32 [==============================] - 10s 319ms/step - loss: 0.8222 - accuracy: 0.8495 - val_loss: 0.0301 - val_accuracy: 0.9884\n",
            "Epoch 2/10\n",
            "32/32 [==============================] - 10s 313ms/step - loss: 0.0962 - accuracy: 0.9629 - val_loss: 0.0210 - val_accuracy: 0.9884\n",
            "Epoch 3/10\n",
            "32/32 [==============================] - ETA: 0s - loss: 0.0689 - accuracy: 0.9766\n",
            "Stopping training with accuracy of >97%\n",
            "32/32 [==============================] - 10s 318ms/step - loss: 0.0689 - accuracy: 0.9766 - val_loss: 0.0222 - val_accuracy: 0.9884\n"
          ],
          "name": "stdout"
        }
      ]
    },
    {
      "cell_type": "markdown",
      "metadata": {
        "id": "Jfw4RIaxsm8l",
        "colab_type": "text"
      },
      "source": [
        "*Check confidence of models*"
      ]
    },
    {
      "cell_type": "code",
      "metadata": {
        "id": "lTscDmasziuL",
        "colab_type": "code",
        "colab": {
          "base_uri": "https://localhost:8080/",
          "height": 170
        },
        "outputId": "7428a0b6-a620-4db5-8b7b-22c15de63a7b"
      },
      "source": [
        "image = load_img('/content/Shreyas_with_mask.jpg', target_size=(224, 224))\n",
        "image = img_to_array(image)\n",
        "image = preprocess_input(image)\n",
        "to_predict = []\n",
        "to_predict.append(image)\n",
        "to_predict = np.array(to_predict, dtype=\"float32\")\n",
        "print('Picture with mask')\n",
        "print('Factor 1 confidence : ',round(max(model.predict(to_predict)[0]),3))\n",
        "print('Factor 2 confidence : ',round(max(person_model.predict(to_predict)[0]),4))\n",
        "image = load_img('/content/Shreyas_without_mask.jpg', target_size=(224, 224))\n",
        "image = img_to_array(image)\n",
        "image = preprocess_input(image)\n",
        "to_predict = []\n",
        "to_predict.append(image)\n",
        "to_predict = np.array(to_predict, dtype=\"float32\")\n",
        "print('\\nPicture without mask')\n",
        "print('Factor 1 confidence : ',round(max(model.predict(to_predict)[0]),3))\n",
        "print('Factor 2 confidence : ',round(max(person_model.predict(to_predict)[0]),4))\n",
        "print('\\nFactor 1 confidence should be greater than 0.95 and Factor 2 confidence should be greater than 0.98')"
      ],
      "execution_count": 102,
      "outputs": [
        {
          "output_type": "stream",
          "text": [
            "Picture with mask\n",
            "Factor 1 confidence :  0.998\n",
            "Factor 2 confidence :  0.9999\n",
            "\n",
            "Picture without mask\n",
            "Factor 1 confidence :  0.979\n",
            "Factor 2 confidence :  0.9997\n",
            "\n",
            "Factor 1 confidence should be greater than 0.95 and Factor 2 confidence should be greater than 0.98\n"
          ],
          "name": "stdout"
        }
      ]
    },
    {
      "cell_type": "markdown",
      "metadata": {
        "id": "MGypaeEgA-le",
        "colab_type": "text"
      },
      "source": [
        "**TEST THE MODELS**"
      ]
    },
    {
      "cell_type": "markdown",
      "metadata": {
        "id": "bYBUSgdfJGL2",
        "colab_type": "text"
      },
      "source": [
        "*Set minimum confidence - default is 95% for first factor and 99% for second factor*"
      ]
    },
    {
      "cell_type": "code",
      "metadata": {
        "id": "tAbhMrkwJPgc",
        "colab_type": "code",
        "colab": {}
      },
      "source": [
        "CONFIDENCE = 0.95\n",
        "CONFIDENCE2 = 0.99"
      ],
      "execution_count": 89,
      "outputs": []
    },
    {
      "cell_type": "code",
      "metadata": {
        "id": "ht2w87GFBAqp",
        "colab_type": "code",
        "colab": {
          "base_uri": "https://localhost:8080/",
          "height": 650
        },
        "outputId": "576937db-fb36-4c8e-a153-f63346035ebd"
      },
      "source": [
        "from IPython.display import display, Javascript\n",
        "from google.colab.output import eval_js\n",
        "from base64 import b64decode\n",
        "\n",
        "def take_photo(filename='photo.jpg', quality=0.8):\n",
        "  js = Javascript('''\n",
        "    async function takePhoto(quality) {\n",
        "      const div = document.createElement('div');\n",
        "      const capture = document.createElement('button');\n",
        "      capture.textContent = 'Capture';\n",
        "      div.appendChild(capture);\n",
        "\n",
        "      const video = document.createElement('video');\n",
        "      video.style.display = 'block';\n",
        "      const stream = await navigator.mediaDevices.getUserMedia({video: true});\n",
        "\n",
        "      document.body.appendChild(div);\n",
        "      div.appendChild(video);\n",
        "      video.srcObject = stream;\n",
        "      await video.play();\n",
        "\n",
        "      // Resize the output to fit the video element.\n",
        "      google.colab.output.setIframeHeight(document.documentElement.scrollHeight, true);\n",
        "\n",
        "      // Wait for Capture to be clicked.\n",
        "      await new Promise((resolve) => capture.onclick = resolve);\n",
        "      //setTimeout(() => {  console.log(\"World!\"); }, 10000);\n",
        "      //const promise = new Promise((resolve, reject) => {\n",
        "      //setTimeout(() => {\n",
        "       //resolve() // Change status to 'fulfilled'\n",
        "      //}, 5000)\n",
        "      //})\n",
        "      //await promise\n",
        "      const canvas = document.createElement('canvas');\n",
        "      canvas.width = video.videoWidth;\n",
        "      canvas.height = video.videoHeight;\n",
        "      canvas.getContext('2d').drawImage(video, 0, 0);\n",
        "      stream.getVideoTracks()[0].stop();\n",
        "      div.remove();\n",
        "      return canvas.toDataURL('image/jpeg', quality);\n",
        "    }\n",
        "    ''')\n",
        "  display(js)\n",
        "  data = eval_js('takePhoto({})'.format(quality))\n",
        "  binary = b64decode(data.split(',')[1])\n",
        "  with open(filename, 'wb') as f:\n",
        "    f.write(binary)\n",
        "  return filename\n",
        "\n",
        "\n",
        "from IPython.display import Image\n",
        "from IPython.display import clear_output\n",
        "import time\n",
        "try:\n",
        "  #filename = take_photo2()\n",
        "  factor1,factor2='without mask','not self'\n",
        "  print('\\nWear your mask to access')\n",
        "  start_flag=True\n",
        "  while(factor1=='without mask' or factor2=='not self'):\n",
        "    #time.sleep(0.1)\n",
        "    if start_flag==False:\n",
        "      clear_output()\n",
        "      #print((model.predict(to_predict)[0]))\n",
        "      #print((person_model.predict(to_predict)[0]))\n",
        "      #if factor2=='self' and factor1=='without mask':\n",
        "        #print('First factor - Failing.\\nSecond factor - Passing.')\n",
        "      #if factor2=='not self' and factor1=='with mask':\n",
        "        #print('First factor - Passing.\\nSecond factor - Failing.\\nTry coming closer to the camera.')\n",
        "      if prelim=='with mask' and factor1=='without mask':\n",
        "        print('\\nMask detected with low confidence (',round((confidence-0.5)*100,2),'%). Try coming closer to the camera and making sure the mask is covering your nose.')\n",
        "      if factor1=='without mask' and prelim=='without mask':\n",
        "        print('\\nNo mask detected - Please wear a mask over your nose and mouth.')\n",
        "      print('\\nDetails:\\nFirst factor - ','Passing' if factor1=='with mask' else 'Failing',('\\nSecond factor - ','Passing\\n' if factor2=='self' else 'Failing\\n') if factor1=='with mask' else '\\n')\n",
        "    filename = take_photo()\n",
        "    #print('Saved to {}'.format(filename))\n",
        "  \n",
        "    # Show the image which was just taken.\n",
        "    #display(Image(filename))\n",
        "    image = load_img('/content/photo.jpg', target_size=(224, 224))\n",
        "    image = img_to_array(image)\n",
        "    image = preprocess_input(image)\n",
        "    to_predict = []\n",
        "    to_predict.append(image)\n",
        "    to_predict = np.array(to_predict, dtype=\"float32\")\n",
        "    factor1 = 'without mask' if model.predict(to_predict)[0][0]<CONFIDENCE else 'with mask'\n",
        "    prelim = 'without mask' if model.predict(to_predict)[0][0]<0.5 else 'with mask'\n",
        "    confidence = max(model.predict(to_predict)[0])\n",
        "    factor2 = 'not self' if person_model.predict(to_predict)[0][1]<CONFIDENCE2 else 'self'\n",
        "    #print((person_model.predict(to_predict)[0][0]),factor2)\n",
        "    start_flag=False\n",
        "    #print(confidence)\n",
        "  clear_output()\n",
        "  print('\\n\\nMask detected with ',round(confidence*100,2),'% confidence.\\n\\nDetails:\\nFirst factor - Passing.\\nSecond factor - Passing.\\n')\n",
        "  #print((model.predict(to_predict)[0]))\n",
        "  #print((person_model.predict(to_predict)[0]))\n",
        "  #print(max(person_model.predict(to_predict)[0]))\n",
        "  #time.sleep(0.1)\n",
        "  #filename = take_photo()\n",
        "  display(Image(filename))\n",
        "  print('Access Granted')\n",
        "except Exception as err:\n",
        "  # Errors will be thrown if the user does not have a webcam or if they do not\n",
        "  # grant the page permission to access it.\n",
        "  print(str(err))"
      ],
      "execution_count": 94,
      "outputs": [
        {
          "output_type": "stream",
          "text": [
            "\n",
            "\n",
            "Mask detected with  97.44 % confidence.\n",
            "\n",
            "Details:\n",
            "First factor - Passing.\n",
            "Second factor - Passing.\n",
            "\n"
          ],
          "name": "stdout"
        },
        {
          "output_type": "display_data",
          "data": {
            "image/jpeg": "[encoded data removed]",
            "text/plain": [
              "<IPython.core.display.Image object>"
            ]
          },
          "metadata": {
            "tags": []
          }
        },
        {
          "output_type": "stream",
          "text": [
            "Access Granted\n"
          ],
          "name": "stdout"
        }
      ]
    },
    {
      "cell_type": "code",
      "metadata": {
        "id": "ePwQLlQ-f6pM",
        "colab_type": "code",
        "colab": {
          "base_uri": "https://localhost:8080/",
          "height": 51
        },
        "outputId": "11c2bbed-748b-40d1-d7ff-4e1b0b01d314"
      },
      "source": [
        "image = load_img('/content/appa_mask.jpg', target_size=(224, 224))\n",
        "image = img_to_array(image)\n",
        "image = preprocess_input(image)\n",
        "to_predict = []\n",
        "to_predict.append(image)\n",
        "to_predict = np.array(to_predict, dtype=\"float32\")\n",
        "print(person_model.predict(to_predict)[0])\n",
        "print(model.predict(to_predict)[0])"
      ],
      "execution_count": 71,
      "outputs": [
        {
          "output_type": "stream",
          "text": [
            "[0.00562984 0.99437016]\n",
            "[0.60052294 0.39947706]\n"
          ],
          "name": "stdout"
        }
      ]
    },
    {
      "cell_type": "code",
      "metadata": {
        "id": "FEgmcJ4fQg9f",
        "colab_type": "code",
        "colab": {}
      },
      "source": [
        ""
      ],
      "execution_count": null,
      "outputs": []
    },
    {
      "cell_type": "code",
      "metadata": {
        "id": "UZ9zTl2wxA0F",
        "colab_type": "code",
        "colab": {
          "base_uri": "https://localhost:8080/",
          "height": 105
        },
        "outputId": "7afa9daf-b741-496f-e6be-1b023c9fded5"
      },
      "source": [
        "#model.save('/content/mask')"
      ],
      "execution_count": null,
      "outputs": [
        {
          "output_type": "stream",
          "text": [
            "WARNING:tensorflow:From /usr/local/lib/python3.6/dist-packages/tensorflow/python/ops/resource_variable_ops.py:1817: calling BaseResourceVariable.__init__ (from tensorflow.python.ops.resource_variable_ops) with constraint is deprecated and will be removed in a future version.\n",
            "Instructions for updating:\n",
            "If using Keras pass *_constraint arguments to layers.\n",
            "INFO:tensorflow:Assets written to: /content/mask/assets\n"
          ],
          "name": "stdout"
        }
      ]
    },
    {
      "cell_type": "code",
      "metadata": {
        "id": "DVMoyDj3xMNS",
        "colab_type": "code",
        "colab": {}
      },
      "source": [
        "#from tensorflow import keras\n",
        "#model = keras.models.load_model('/content/mask')"
      ],
      "execution_count": null,
      "outputs": []
    }
  ]
}